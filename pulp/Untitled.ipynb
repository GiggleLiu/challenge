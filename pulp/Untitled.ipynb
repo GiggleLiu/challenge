{
 "cells": [
  {
   "cell_type": "code",
   "execution_count": 15,
   "metadata": {
    "collapsed": false
   },
   "outputs": [],
   "source": [
    "#\n",
    "# Bin packing as a LP problem:\n",
    "# http://www.or.deis.unibo.it/kp/Chapter8.pdf\n",
    "#\n",
    "# Requisite Wiki Article:\n",
    "# https://en.wikipedia.org/wiki/Bin_packing_problem\n",
    "#\n",
    "# PuLP Library:\n",
    "# https://pythonhosted.org/PuLP/index.html\n",
    "#\n",
    "\n",
    "from pulp import LpVariable,LpProblem,lpSum\n",
    "import time\n",
    "\n",
    "#\n",
    "# A list of item tuples (name, weight) -- name is meaningless except to humans.\n",
    "# Weight and Size are used interchangeably here and elsewhere.\n",
    "#\n",
    "items = [(\"a\", 5),\n",
    "         (\"b\", 6),\n",
    "         (\"c\", 7),\n",
    "         (\"d\", 32),\n",
    "         (\"e\", 2),\n",
    "         (\"f\", 32),\n",
    "         (\"g\", 5),\n",
    "         (\"h\", 7),\n",
    "         (\"i\", 9),\n",
    "         (\"k\", 12),\n",
    "         (\"l\", 11),\n",
    "         (\"m\", 1),\n",
    "         (\"n\", 2)]\n",
    "\n",
    "itemCount = len(items)\n",
    "\n",
    "# Max number of bins allowed.\n",
    "maxBins = 32\n",
    "\n",
    "# Bin Size\n",
    "binCapacity = 32"
   ]
  },
  {
   "cell_type": "code",
   "execution_count": 21,
   "metadata": {
    "collapsed": false
   },
   "outputs": [],
   "source": [
    "# Indicator variable assigned 1 when the bin is used.\n",
    "y = LpVariable.dicts('BinUsed', range(maxBins), \n",
    "                            lowBound = 0,\n",
    "                            upBound = 1,\n",
    "                            cat = pulp.LpInteger)\n",
    "\n",
    "# An indicator variable that is assigned 1 when item is placed into binNum\n",
    "possible_ItemInBin = [(itemTuple[0], binNum) for itemTuple in items\n",
    "                                            for binNum in range(maxBins)]\n",
    "x = LpVariable.dicts('itemInBin', possible_ItemInBin,\n",
    "                            lowBound = 0,\n",
    "                            upBound = 1,\n",
    "                            cat = pulp.LpInteger)\n",
    "\n",
    "# Initialize the problem\n",
    "prob = LpProblem(\"Bin Packing Problem\", LpMinimize)\n",
    "\n",
    "# Add the objective function.\n",
    "prob += lpSum([y[i] for i in range(maxBins)]), \"Objective: Minimize Bins Used\""
   ]
  },
  {
   "cell_type": "code",
   "execution_count": 22,
   "metadata": {
    "collapsed": true
   },
   "outputs": [],
   "source": [
    "#\n",
    "# This is the constraints section.\n",
    "#\n",
    "\n",
    "# First constraint: For every item, the sum of bins in which it appears must be 1\n",
    "for j in items:\n",
    "    prob += lpSum([x[(j[0], i)] for i in range(maxBins)]) == 1, (\"An item can be in only 1 bin -- \" + str(j[0]))\n",
    "\n",
    "# Second constraint: For every bin, the number of items in the bin cannot exceed the bin capacity\n",
    "for i in range(maxBins):\n",
    "    prob += lpSum([items[j][1] * x[(items[j][0], i)] for j in range(itemCount)]) <= binCapacity*y[i], (\"The sum of item sizes must be smaller than the bin -- \" + str(i))\n",
    "\n",
    "# Write the model to disk\n",
    "prob.writeLP(\"BinPack.lp\")\n"
   ]
  },
  {
   "cell_type": "code",
   "execution_count": 20,
   "metadata": {
    "collapsed": false,
    "scrolled": true
   },
   "outputs": [
    {
     "name": "stdout",
     "output_type": "stream",
     "text": [
      "Solved in 0.0547881126404 seconds.\n",
      "Bins used: 5.0\n",
      "0: ['m', 'a', 'n', 'e', 'i', 'b']\n",
      "1: ['l', 'c', 'g', 'h']\n",
      "12: ['d']\n",
      "13: ['f']\n",
      "7: ['k']\n"
     ]
    }
   ],
   "source": [
    "# Solve the optimization.\n",
    "start_time = time.time()\n",
    "prob.solve()\n",
    "print(\"Solved in %s seconds.\" % (time.time() - start_time))\n",
    "\n",
    "\n",
    "# Bins used\n",
    "print(\"Bins used: \" + str(sum(([y[i].value() for i in range(maxBins)]))))\n",
    "\n",
    "# The rest of this is some unpleasent massaging to get pretty results.\n",
    "bins = {}\n",
    "for itemBinPair in x.keys():\n",
    "    if(x[itemBinPair].value() == 1):\n",
    "        itemNum = itemBinPair[0]\n",
    "        binNum = itemBinPair[1]\n",
    "        if binNum in bins:\n",
    "            bins[binNum].append(itemNum)\n",
    "        else:\n",
    "            bins[binNum] = [itemNum]\n",
    "\n",
    "for b in bins.keys():\n",
    "    print(str(b) + \": \" + str(bins[b]))"
   ]
  },
  {
   "cell_type": "code",
   "execution_count": 24,
   "metadata": {
    "collapsed": false
   },
   "outputs": [
    {
     "name": "stdout",
     "output_type": "stream",
     "text": [
      "[('a', 0), ('a', 1), ('a', 2), ('a', 3), ('a', 4), ('a', 5), ('a', 6), ('a', 7), ('a', 8), ('a', 9), ('a', 10), ('a', 11), ('a', 12), ('a', 13), ('a', 14), ('a', 15), ('a', 16), ('a', 17), ('a', 18), ('a', 19), ('a', 20), ('a', 21), ('a', 22), ('a', 23), ('a', 24), ('a', 25), ('a', 26), ('a', 27), ('a', 28), ('a', 29), ('a', 30), ('a', 31), ('b', 0), ('b', 1), ('b', 2), ('b', 3), ('b', 4), ('b', 5), ('b', 6), ('b', 7), ('b', 8), ('b', 9), ('b', 10), ('b', 11), ('b', 12), ('b', 13), ('b', 14), ('b', 15), ('b', 16), ('b', 17), ('b', 18), ('b', 19), ('b', 20), ('b', 21), ('b', 22), ('b', 23), ('b', 24), ('b', 25), ('b', 26), ('b', 27), ('b', 28), ('b', 29), ('b', 30), ('b', 31), ('c', 0), ('c', 1), ('c', 2), ('c', 3), ('c', 4), ('c', 5), ('c', 6), ('c', 7), ('c', 8), ('c', 9), ('c', 10), ('c', 11), ('c', 12), ('c', 13), ('c', 14), ('c', 15), ('c', 16), ('c', 17), ('c', 18), ('c', 19), ('c', 20), ('c', 21), ('c', 22), ('c', 23), ('c', 24), ('c', 25), ('c', 26), ('c', 27), ('c', 28), ('c', 29), ('c', 30), ('c', 31), ('d', 0), ('d', 1), ('d', 2), ('d', 3), ('d', 4), ('d', 5), ('d', 6), ('d', 7), ('d', 8), ('d', 9), ('d', 10), ('d', 11), ('d', 12), ('d', 13), ('d', 14), ('d', 15), ('d', 16), ('d', 17), ('d', 18), ('d', 19), ('d', 20), ('d', 21), ('d', 22), ('d', 23), ('d', 24), ('d', 25), ('d', 26), ('d', 27), ('d', 28), ('d', 29), ('d', 30), ('d', 31), ('e', 0), ('e', 1), ('e', 2), ('e', 3), ('e', 4), ('e', 5), ('e', 6), ('e', 7), ('e', 8), ('e', 9), ('e', 10), ('e', 11), ('e', 12), ('e', 13), ('e', 14), ('e', 15), ('e', 16), ('e', 17), ('e', 18), ('e', 19), ('e', 20), ('e', 21), ('e', 22), ('e', 23), ('e', 24), ('e', 25), ('e', 26), ('e', 27), ('e', 28), ('e', 29), ('e', 30), ('e', 31), ('f', 0), ('f', 1), ('f', 2), ('f', 3), ('f', 4), ('f', 5), ('f', 6), ('f', 7), ('f', 8), ('f', 9), ('f', 10), ('f', 11), ('f', 12), ('f', 13), ('f', 14), ('f', 15), ('f', 16), ('f', 17), ('f', 18), ('f', 19), ('f', 20), ('f', 21), ('f', 22), ('f', 23), ('f', 24), ('f', 25), ('f', 26), ('f', 27), ('f', 28), ('f', 29), ('f', 30), ('f', 31), ('g', 0), ('g', 1), ('g', 2), ('g', 3), ('g', 4), ('g', 5), ('g', 6), ('g', 7), ('g', 8), ('g', 9), ('g', 10), ('g', 11), ('g', 12), ('g', 13), ('g', 14), ('g', 15), ('g', 16), ('g', 17), ('g', 18), ('g', 19), ('g', 20), ('g', 21), ('g', 22), ('g', 23), ('g', 24), ('g', 25), ('g', 26), ('g', 27), ('g', 28), ('g', 29), ('g', 30), ('g', 31), ('h', 0), ('h', 1), ('h', 2), ('h', 3), ('h', 4), ('h', 5), ('h', 6), ('h', 7), ('h', 8), ('h', 9), ('h', 10), ('h', 11), ('h', 12), ('h', 13), ('h', 14), ('h', 15), ('h', 16), ('h', 17), ('h', 18), ('h', 19), ('h', 20), ('h', 21), ('h', 22), ('h', 23), ('h', 24), ('h', 25), ('h', 26), ('h', 27), ('h', 28), ('h', 29), ('h', 30), ('h', 31), ('i', 0), ('i', 1), ('i', 2), ('i', 3), ('i', 4), ('i', 5), ('i', 6), ('i', 7), ('i', 8), ('i', 9), ('i', 10), ('i', 11), ('i', 12), ('i', 13), ('i', 14), ('i', 15), ('i', 16), ('i', 17), ('i', 18), ('i', 19), ('i', 20), ('i', 21), ('i', 22), ('i', 23), ('i', 24), ('i', 25), ('i', 26), ('i', 27), ('i', 28), ('i', 29), ('i', 30), ('i', 31), ('k', 0), ('k', 1), ('k', 2), ('k', 3), ('k', 4), ('k', 5), ('k', 6), ('k', 7), ('k', 8), ('k', 9), ('k', 10), ('k', 11), ('k', 12), ('k', 13), ('k', 14), ('k', 15), ('k', 16), ('k', 17), ('k', 18), ('k', 19), ('k', 20), ('k', 21), ('k', 22), ('k', 23), ('k', 24), ('k', 25), ('k', 26), ('k', 27), ('k', 28), ('k', 29), ('k', 30), ('k', 31), ('l', 0), ('l', 1), ('l', 2), ('l', 3), ('l', 4), ('l', 5), ('l', 6), ('l', 7), ('l', 8), ('l', 9), ('l', 10), ('l', 11), ('l', 12), ('l', 13), ('l', 14), ('l', 15), ('l', 16), ('l', 17), ('l', 18), ('l', 19), ('l', 20), ('l', 21), ('l', 22), ('l', 23), ('l', 24), ('l', 25), ('l', 26), ('l', 27), ('l', 28), ('l', 29), ('l', 30), ('l', 31), ('m', 0), ('m', 1), ('m', 2), ('m', 3), ('m', 4), ('m', 5), ('m', 6), ('m', 7), ('m', 8), ('m', 9), ('m', 10), ('m', 11), ('m', 12), ('m', 13), ('m', 14), ('m', 15), ('m', 16), ('m', 17), ('m', 18), ('m', 19), ('m', 20), ('m', 21), ('m', 22), ('m', 23), ('m', 24), ('m', 25), ('m', 26), ('m', 27), ('m', 28), ('m', 29), ('m', 30), ('m', 31), ('n', 0), ('n', 1), ('n', 2), ('n', 3), ('n', 4), ('n', 5), ('n', 6), ('n', 7), ('n', 8), ('n', 9), ('n', 10), ('n', 11), ('n', 12), ('n', 13), ('n', 14), ('n', 15), ('n', 16), ('n', 17), ('n', 18), ('n', 19), ('n', 20), ('n', 21), ('n', 22), ('n', 23), ('n', 24), ('n', 25), ('n', 26), ('n', 27), ('n', 28), ('n', 29), ('n', 30), ('n', 31)]\n"
     ]
    }
   ],
   "source": [
    "print possible_ItemInBin"
   ]
  },
  {
   "cell_type": "code",
   "execution_count": null,
   "metadata": {
    "collapsed": true
   },
   "outputs": [],
   "source": []
  }
 ],
 "metadata": {
  "anaconda-cloud": {},
  "kernelspec": {
   "display_name": "Python [conda root]",
   "language": "python",
   "name": "conda-root-py"
  },
  "language_info": {
   "codemirror_mode": {
    "name": "ipython",
    "version": 2
   },
   "file_extension": ".py",
   "mimetype": "text/x-python",
   "name": "python",
   "nbconvert_exporter": "python",
   "pygments_lexer": "ipython2",
   "version": "2.7.12"
  }
 },
 "nbformat": 4,
 "nbformat_minor": 1
}
